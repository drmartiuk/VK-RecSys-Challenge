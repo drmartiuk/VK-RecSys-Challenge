{
 "cells": [
  {
   "cell_type": "code",
   "execution_count": 1,
   "metadata": {},
   "outputs": [],
   "source": [
    "import polars as pl\n",
    "import pandas as pd\n",
    "from sklearn.model_selection import train_test_split\n",
    "import catboost\n",
    "import numpy as np\n",
    "from sklearn.metrics import roc_auc_score"
   ]
  },
  {
   "cell_type": "code",
   "execution_count": 2,
   "metadata": {},
   "outputs": [
    {
     "name": "stdout",
     "output_type": "stream",
     "text": [
      "<class 'pandas.core.frame.DataFrame'>\n",
      "RangeIndex: 145667282 entries, 0 to 145667281\n",
      "Data columns (total 7 columns):\n",
      " #   Column     Dtype \n",
      "---  ------     ----- \n",
      " 0   user_id    uint32\n",
      " 1   item_id    uint32\n",
      " 2   timespent  uint8 \n",
      " 3   like       uint8 \n",
      " 4   dislike    uint8 \n",
      " 5   share      uint8 \n",
      " 6   bookmarks  uint8 \n",
      "dtypes: uint32(2), uint8(5)\n",
      "memory usage: 1.8 GB\n"
     ]
    },
    {
     "data": {
      "text/plain": [
       "None"
      ]
     },
     "metadata": {},
     "output_type": "display_data"
    },
    {
     "name": "stdout",
     "output_type": "stream",
     "text": [
      "<class 'pandas.core.frame.DataFrame'>\n",
      "RangeIndex: 145667282 entries, 0 to 145667281\n",
      "Data columns (total 7 columns):\n",
      " #   Column     Dtype \n",
      "---  ------     ----- \n",
      " 0   user_id    uint32\n",
      " 1   item_id    uint32\n",
      " 2   timespent  uint8 \n",
      " 3   like       uint8 \n",
      " 4   dislike    uint8 \n",
      " 5   share      uint8 \n",
      " 6   bookmarks  uint8 \n",
      "dtypes: uint32(2), uint8(5)\n",
      "memory usage: 1.8 GB\n"
     ]
    },
    {
     "data": {
      "text/plain": [
       "None"
      ]
     },
     "metadata": {},
     "output_type": "display_data"
    },
    {
     "name": "stdout",
     "output_type": "stream",
     "text": [
      "<class 'pandas.core.frame.DataFrame'>\n",
      "Index: 142037246 entries, 0 to 145667281\n",
      "Data columns (total 7 columns):\n",
      " #   Column     Dtype \n",
      "---  ------     ----- \n",
      " 0   user_id    uint32\n",
      " 1   item_id    uint32\n",
      " 2   timespent  uint8 \n",
      " 3   like       uint8 \n",
      " 4   dislike    uint8 \n",
      " 5   share      uint8 \n",
      " 6   bookmarks  uint8 \n",
      "dtypes: uint32(2), uint8(5)\n",
      "memory usage: 2.8 GB\n"
     ]
    },
    {
     "data": {
      "text/plain": [
       "None"
      ]
     },
     "metadata": {},
     "output_type": "display_data"
    },
    {
     "name": "stdout",
     "output_type": "stream",
     "text": [
      "<class 'pandas.core.frame.DataFrame'>\n",
      "RangeIndex: 337727 entries, 0 to 337726\n",
      "Data columns (total 4 columns):\n",
      " #   Column      Non-Null Count   Dtype \n",
      "---  ------      --------------   ----- \n",
      " 0   item_id     337727 non-null  uint32\n",
      " 1   source_id   337727 non-null  uint32\n",
      " 2   duration    337727 non-null  uint8 \n",
      " 3   embeddings  337727 non-null  object\n",
      "dtypes: object(1), uint32(2), uint8(1)\n",
      "memory usage: 41.5 MB\n"
     ]
    },
    {
     "data": {
      "text/plain": [
       "None"
      ]
     },
     "metadata": {},
     "output_type": "display_data"
    },
    {
     "name": "stdout",
     "output_type": "stream",
     "text": [
      "<class 'pandas.core.frame.DataFrame'>\n",
      "RangeIndex: 183404 entries, 0 to 183403\n",
      "Data columns (total 3 columns):\n",
      " #   Column   Non-Null Count   Dtype \n",
      "---  ------   --------------   ----- \n",
      " 0   user_id  183404 non-null  uint32\n",
      " 1   gender   183404 non-null  uint8 \n",
      " 2   age      183404 non-null  uint8 \n",
      "dtypes: uint32(1), uint8(2)\n",
      "memory usage: 1.0 MB\n"
     ]
    },
    {
     "data": {
      "text/plain": [
       "None"
      ]
     },
     "metadata": {},
     "output_type": "display_data"
    },
    {
     "name": "stdout",
     "output_type": "stream",
     "text": [
      "<class 'pandas.core.frame.DataFrame'>\n",
      "Index: 142037246 entries, 0 to 145667281\n",
      "Data columns (total 3 columns):\n",
      " #   Column   Dtype \n",
      "---  ------   ----- \n",
      " 0   user_id  uint32\n",
      " 1   item_id  uint32\n",
      " 2   weight   int64 \n",
      "dtypes: int64(1), uint32(2)\n",
      "memory usage: 3.2 GB\n"
     ]
    },
    {
     "data": {
      "text/plain": [
       "None"
      ]
     },
     "metadata": {},
     "output_type": "display_data"
    }
   ],
   "source": [
    "def dataframe_read(path):\n",
    "    temp=pd.read_parquet(path)\n",
    "    display(temp.info(memory_usage=\"deep\"))\n",
    "    #temp = temp.apply(pd.to_numeric, downcast='float')\n",
    "    #temp = temp.apply(pd.to_numeric, downcast='integer')\n",
    "    #display(temp.info(memory_usage=\"deep\"))\n",
    "    return temp\n",
    "list_item= dataframe_read(\"train_interactions.parquet\").query(\"like==1 or dislike==1\")['item_id'].unique()\n",
    "\n",
    "train = dataframe_read(\"train_interactions.parquet\").query(\"item_id in @list_item\")\n",
    "display(train.info(memory_usage=\"deep\"))\n",
    "train[\"like\"]= train[\"like\"].astype(int)\n",
    "train[\"dislike\"]= train[\"dislike\"].astype(int)\n",
    "train['weight']= train[\"like\"]-train[\"dislike\"]\n",
    "train = train.drop(columns=['timespent', 'like', 'dislike', 'share',\n",
    "       'bookmarks'],axis=1)\n",
    "items =  dataframe_read(\"items_meta.parquet\")\n",
    "users=  dataframe_read(\"users_meta.parquet\")\n",
    "\n",
    "\n",
    "display(train.info(memory_usage=\"deep\"))\n"
   ]
  },
  {
   "cell_type": "code",
   "execution_count": 3,
   "metadata": {},
   "outputs": [],
   "source": [
    "users['age_category'] =(round(users['age']/10,0)*10).astype(str)\n",
    "data=train.merge(users,how='left',on='user_id').merge(items[['item_id', 'source_id', 'duration']],how='left',on='item_id')\n",
    "%xdel train\n",
    "train_item=data[['user_id','item_id', 'weight', 'gender', 'age_category','source_id']].drop_duplicates()"
   ]
  },
  {
   "cell_type": "code",
   "execution_count": 4,
   "metadata": {},
   "outputs": [
    {
     "ename": "ValueError",
     "evalue": "Length mismatch: Expected axis has 7 elements, new values have 6 elements",
     "output_type": "error",
     "traceback": [
      "\u001b[0;31m---------------------------------------------------------------------------\u001b[0m",
      "\u001b[0;31mValueError\u001b[0m                                Traceback (most recent call last)",
      "Cell \u001b[0;32mIn[4], line 2\u001b[0m\n\u001b[1;32m      1\u001b[0m pivot_item\u001b[38;5;241m=\u001b[39mpd\u001b[38;5;241m.\u001b[39mpivot_table(data\u001b[38;5;241m=\u001b[39mdata,index\u001b[38;5;241m=\u001b[39m[\u001b[38;5;124m'\u001b[39m\u001b[38;5;124mitem_id\u001b[39m\u001b[38;5;124m'\u001b[39m,\u001b[38;5;124m'\u001b[39m\u001b[38;5;124msource_id\u001b[39m\u001b[38;5;124m'\u001b[39m,\u001b[38;5;124m'\u001b[39m\u001b[38;5;124mgender\u001b[39m\u001b[38;5;124m'\u001b[39m, \u001b[38;5;124m'\u001b[39m\u001b[38;5;124mage_category\u001b[39m\u001b[38;5;124m'\u001b[39m],columns\u001b[38;5;241m=\u001b[39m\u001b[38;5;124m'\u001b[39m\u001b[38;5;124mweight\u001b[39m\u001b[38;5;124m'\u001b[39m,values\u001b[38;5;241m=\u001b[39m[\u001b[38;5;124m'\u001b[39m\u001b[38;5;124muser_id\u001b[39m\u001b[38;5;124m'\u001b[39m], aggfunc\u001b[38;5;241m=\u001b[39m\u001b[38;5;124m'\u001b[39m\u001b[38;5;124mcount\u001b[39m\u001b[38;5;124m'\u001b[39m)\u001b[38;5;241m.\u001b[39mfillna(\u001b[38;5;241m0\u001b[39m)\u001b[38;5;241m.\u001b[39mreset_index()\n\u001b[0;32m----> 2\u001b[0m pivot_item\u001b[38;5;241m.\u001b[39mcolumns\u001b[38;5;241m=\u001b[39m[\u001b[38;5;124m'\u001b[39m\u001b[38;5;124mitem_id\u001b[39m\u001b[38;5;124m'\u001b[39m,\u001b[38;5;124m'\u001b[39m\u001b[38;5;124msource_id\u001b[39m\u001b[38;5;124m'\u001b[39m,\u001b[38;5;124m'\u001b[39m\u001b[38;5;124mgender\u001b[39m\u001b[38;5;124m'\u001b[39m, \u001b[38;5;124m'\u001b[39m\u001b[38;5;124mage_category\u001b[39m\u001b[38;5;124m'\u001b[39m,\u001b[38;5;124m'\u001b[39m\u001b[38;5;124mdislike\u001b[39m\u001b[38;5;124m'\u001b[39m,\u001b[38;5;124m'\u001b[39m\u001b[38;5;124mlike\u001b[39m\u001b[38;5;124m'\u001b[39m]\n\u001b[1;32m      3\u001b[0m get_ipython()\u001b[38;5;241m.\u001b[39mrun_line_magic(\u001b[38;5;124m'\u001b[39m\u001b[38;5;124mxdel\u001b[39m\u001b[38;5;124m'\u001b[39m, \u001b[38;5;124m'\u001b[39m\u001b[38;5;124mdata\u001b[39m\u001b[38;5;124m'\u001b[39m)\n\u001b[1;32m      4\u001b[0m train_item\u001b[38;5;241m=\u001b[39mtrain_item\u001b[38;5;241m.\u001b[39mmerge(pivot_item,on\u001b[38;5;241m=\u001b[39m[\u001b[38;5;124m'\u001b[39m\u001b[38;5;124mitem_id\u001b[39m\u001b[38;5;124m'\u001b[39m, \u001b[38;5;124m'\u001b[39m\u001b[38;5;124mgender\u001b[39m\u001b[38;5;124m'\u001b[39m, \u001b[38;5;124m'\u001b[39m\u001b[38;5;124mage_category\u001b[39m\u001b[38;5;124m'\u001b[39m,\u001b[38;5;124m'\u001b[39m\u001b[38;5;124msource_id\u001b[39m\u001b[38;5;124m'\u001b[39m],how\u001b[38;5;241m=\u001b[39m\u001b[38;5;124m'\u001b[39m\u001b[38;5;124mleft\u001b[39m\u001b[38;5;124m'\u001b[39m)\n",
      "File \u001b[0;32m/opt/anaconda3/lib/python3.12/site-packages/pandas/core/generic.py:6313\u001b[0m, in \u001b[0;36mNDFrame.__setattr__\u001b[0;34m(self, name, value)\u001b[0m\n\u001b[1;32m   6311\u001b[0m \u001b[38;5;28;01mtry\u001b[39;00m:\n\u001b[1;32m   6312\u001b[0m     \u001b[38;5;28mobject\u001b[39m\u001b[38;5;241m.\u001b[39m\u001b[38;5;21m__getattribute__\u001b[39m(\u001b[38;5;28mself\u001b[39m, name)\n\u001b[0;32m-> 6313\u001b[0m     \u001b[38;5;28;01mreturn\u001b[39;00m \u001b[38;5;28mobject\u001b[39m\u001b[38;5;241m.\u001b[39m\u001b[38;5;21m__setattr__\u001b[39m(\u001b[38;5;28mself\u001b[39m, name, value)\n\u001b[1;32m   6314\u001b[0m \u001b[38;5;28;01mexcept\u001b[39;00m \u001b[38;5;167;01mAttributeError\u001b[39;00m:\n\u001b[1;32m   6315\u001b[0m     \u001b[38;5;28;01mpass\u001b[39;00m\n",
      "File \u001b[0;32mproperties.pyx:69\u001b[0m, in \u001b[0;36mpandas._libs.properties.AxisProperty.__set__\u001b[0;34m()\u001b[0m\n",
      "File \u001b[0;32m/opt/anaconda3/lib/python3.12/site-packages/pandas/core/generic.py:814\u001b[0m, in \u001b[0;36mNDFrame._set_axis\u001b[0;34m(self, axis, labels)\u001b[0m\n\u001b[1;32m    809\u001b[0m \u001b[38;5;250m\u001b[39m\u001b[38;5;124;03m\"\"\"\u001b[39;00m\n\u001b[1;32m    810\u001b[0m \u001b[38;5;124;03mThis is called from the cython code when we set the `index` attribute\u001b[39;00m\n\u001b[1;32m    811\u001b[0m \u001b[38;5;124;03mdirectly, e.g. `series.index = [1, 2, 3]`.\u001b[39;00m\n\u001b[1;32m    812\u001b[0m \u001b[38;5;124;03m\"\"\"\u001b[39;00m\n\u001b[1;32m    813\u001b[0m labels \u001b[38;5;241m=\u001b[39m ensure_index(labels)\n\u001b[0;32m--> 814\u001b[0m \u001b[38;5;28mself\u001b[39m\u001b[38;5;241m.\u001b[39m_mgr\u001b[38;5;241m.\u001b[39mset_axis(axis, labels)\n\u001b[1;32m    815\u001b[0m \u001b[38;5;28mself\u001b[39m\u001b[38;5;241m.\u001b[39m_clear_item_cache()\n",
      "File \u001b[0;32m/opt/anaconda3/lib/python3.12/site-packages/pandas/core/internals/managers.py:238\u001b[0m, in \u001b[0;36mBaseBlockManager.set_axis\u001b[0;34m(self, axis, new_labels)\u001b[0m\n\u001b[1;32m    236\u001b[0m \u001b[38;5;28;01mdef\u001b[39;00m \u001b[38;5;21mset_axis\u001b[39m(\u001b[38;5;28mself\u001b[39m, axis: AxisInt, new_labels: Index) \u001b[38;5;241m-\u001b[39m\u001b[38;5;241m>\u001b[39m \u001b[38;5;28;01mNone\u001b[39;00m:\n\u001b[1;32m    237\u001b[0m     \u001b[38;5;66;03m# Caller is responsible for ensuring we have an Index object.\u001b[39;00m\n\u001b[0;32m--> 238\u001b[0m     \u001b[38;5;28mself\u001b[39m\u001b[38;5;241m.\u001b[39m_validate_set_axis(axis, new_labels)\n\u001b[1;32m    239\u001b[0m     \u001b[38;5;28mself\u001b[39m\u001b[38;5;241m.\u001b[39maxes[axis] \u001b[38;5;241m=\u001b[39m new_labels\n",
      "File \u001b[0;32m/opt/anaconda3/lib/python3.12/site-packages/pandas/core/internals/base.py:98\u001b[0m, in \u001b[0;36mDataManager._validate_set_axis\u001b[0;34m(self, axis, new_labels)\u001b[0m\n\u001b[1;32m     95\u001b[0m     \u001b[38;5;28;01mpass\u001b[39;00m\n\u001b[1;32m     97\u001b[0m \u001b[38;5;28;01melif\u001b[39;00m new_len \u001b[38;5;241m!=\u001b[39m old_len:\n\u001b[0;32m---> 98\u001b[0m     \u001b[38;5;28;01mraise\u001b[39;00m \u001b[38;5;167;01mValueError\u001b[39;00m(\n\u001b[1;32m     99\u001b[0m         \u001b[38;5;124mf\u001b[39m\u001b[38;5;124m\"\u001b[39m\u001b[38;5;124mLength mismatch: Expected axis has \u001b[39m\u001b[38;5;132;01m{\u001b[39;00mold_len\u001b[38;5;132;01m}\u001b[39;00m\u001b[38;5;124m elements, new \u001b[39m\u001b[38;5;124m\"\u001b[39m\n\u001b[1;32m    100\u001b[0m         \u001b[38;5;124mf\u001b[39m\u001b[38;5;124m\"\u001b[39m\u001b[38;5;124mvalues have \u001b[39m\u001b[38;5;132;01m{\u001b[39;00mnew_len\u001b[38;5;132;01m}\u001b[39;00m\u001b[38;5;124m elements\u001b[39m\u001b[38;5;124m\"\u001b[39m\n\u001b[1;32m    101\u001b[0m     )\n",
      "\u001b[0;31mValueError\u001b[0m: Length mismatch: Expected axis has 7 elements, new values have 6 elements"
     ]
    }
   ],
   "source": [
    "pivot_item=pd.pivot_table(data=data,index=['item_id','source_id','gender', 'age_category'],columns='weight',values=['user_id'], aggfunc='count').fillna(0).reset_index()\n",
    "pivot_item.columns=['item_id','source_id','gender', 'age_category','dislike','like']\n",
    "%xdel data\n",
    "train_item=train_item.merge(pivot_item,on=['item_id', 'gender', 'age_category','source_id'],how='left')"
   ]
  },
  {
   "cell_type": "code",
   "execution_count": null,
   "metadata": {},
   "outputs": [],
   "source": [
    "test_pairs = pd.read_csv('test_pairs.csv')\n",
    "test_item=test_pairs.merge(users,how='left',on='user_id').merge(items[['item_id', 'source_id']],how='left',on='item_id').drop(columns='age').merge(pivot_item,on=['item_id', 'gender', 'age_category','source_id'],how='left')"
   ]
  },
  {
   "cell_type": "code",
   "execution_count": null,
   "metadata": {},
   "outputs": [],
   "source": [
    "%xdel users\n",
    "%xdel items"
   ]
  },
  {
   "cell_type": "markdown",
   "metadata": {},
   "source": [
    "ind_cat_cols=['gender', 'age_category','item_id','source_id']\n",
    "\n",
    "boosting_model =  catboost.CatBoostClassifier(iterations=1, depth=8, cat_features=ind_cat_cols,\n",
    "                           custom_metric=['AUC'], random_seed=42)\n",
    "param_grid = {'learning_rate': np.linspace(0, 1, 11),'l2_leaf_reg': np.linspace(0, 1, 11)}\n",
    "boosting_model.grid_search(param_grid, \n",
    "                           train_final.drop(columns=['user_id','weight'],axis=1), \n",
    "                           train_final['weight'], plot=True, refit=True)"
   ]
  },
  {
   "cell_type": "code",
   "execution_count": null,
   "metadata": {},
   "outputs": [],
   "source": [
    "ind_cat_cols=['gender', 'age_category','item_id','source_id']\n",
    "x_cols=['item_id','gender','age_category','source_id','dislike','like']\n",
    "y_col=['weight']\n",
    "boosting_model =  catboost.CatBoostClassifier(n_estimators=10, silent=True, cat_features=ind_cat_cols, eval_metric='AUC')\n",
    "param_grid = { 'learning_rate': np.linspace(0, 1, 11),'l2_leaf_reg': np.linspace(0, 1, 11)             }\n",
    "boosting_model.grid_search(param_grid, \n",
    "                           train_item[x_cols], \n",
    "                           train_item[y_col], plot=True, refit=True)"
   ]
  },
  {
   "cell_type": "code",
   "execution_count": null,
   "metadata": {},
   "outputs": [],
   "source": [
    "x_cols=['item_id','gender','age_category','source_id','dislike','like']\n",
    "\n",
    "boosting_model = catboost.CatBoostClassifier(n_estimators=10, silent=True, cat_features=ind_cat_cols, eval_metric='AUC',learning_rate=1, l2_leaf_reg=0.4)\n",
    "boosting_model.fit(train_item[x_cols],train_item[y_col], cat_features=ind_cat_cols)\n",
    "y_train_predicted = boosting_model.predict_proba(train_item[x_cols])[:, 1]\n",
    "y_train_pred = boosting_model.predict(train_item[x_cols])\n",
    "y_test_proba = boosting_model.predict_proba(test_item[x_cols])[:, 1]\n",
    "y_test_pred = boosting_model.predict(test_item[x_cols])"
   ]
  },
  {
   "cell_type": "code",
   "execution_count": null,
   "metadata": {},
   "outputs": [],
   "source": [
    "test_pairs['predict']=y_test_proba\n",
    "test_pairs.to_csv('sample_submission.csv', index=False)"
   ]
  },
  {
   "cell_type": "code",
   "execution_count": null,
   "metadata": {},
   "outputs": [],
   "source": []
  }
 ],
 "metadata": {
  "kernelspec": {
   "display_name": "Python 3 (ipykernel)",
   "language": "python",
   "name": "python3"
  },
  "language_info": {
   "codemirror_mode": {
    "name": "ipython",
    "version": 3
   },
   "file_extension": ".py",
   "mimetype": "text/x-python",
   "name": "python",
   "nbconvert_exporter": "python",
   "pygments_lexer": "ipython3",
   "version": "3.12.2"
  }
 },
 "nbformat": 4,
 "nbformat_minor": 4
}
